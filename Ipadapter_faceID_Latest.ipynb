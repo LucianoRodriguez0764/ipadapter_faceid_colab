{
  "nbformat": 4,
  "nbformat_minor": 0,
  "metadata": {
    "colab": {
      "provenance": [],
      "gpuType": "T4",
      "include_colab_link": true
    },
    "kernelspec": {
      "name": "python3",
      "display_name": "Python 3"
    },
    "language_info": {
      "name": "python"
    },
    "accelerator": "GPU",
    "widgets": {
      "application/vnd.jupyter.widget-state+json": {
        "563b028f3f0a41cbba020078f180a9cb": {
          "model_module": "@jupyter-widgets/controls",
          "model_name": "HBoxModel",
          "model_module_version": "1.5.0",
          "state": {
            "_dom_classes": [],
            "_model_module": "@jupyter-widgets/controls",
            "_model_module_version": "1.5.0",
            "_model_name": "HBoxModel",
            "_view_count": null,
            "_view_module": "@jupyter-widgets/controls",
            "_view_module_version": "1.5.0",
            "_view_name": "HBoxView",
            "box_style": "",
            "children": [
              "IPY_MODEL_697039d712784e98a041bb17454631e4",
              "IPY_MODEL_09830badcf854ed5b11a962978190374",
              "IPY_MODEL_dc9bc749a0ec48ae850cf0db7b34133f"
            ],
            "layout": "IPY_MODEL_47c9018df8d84912abf228cd63d61942"
          }
        },
        "697039d712784e98a041bb17454631e4": {
          "model_module": "@jupyter-widgets/controls",
          "model_name": "HTMLModel",
          "model_module_version": "1.5.0",
          "state": {
            "_dom_classes": [],
            "_model_module": "@jupyter-widgets/controls",
            "_model_module_version": "1.5.0",
            "_model_name": "HTMLModel",
            "_view_count": null,
            "_view_module": "@jupyter-widgets/controls",
            "_view_module_version": "1.5.0",
            "_view_name": "HTMLView",
            "description": "",
            "description_tooltip": null,
            "layout": "IPY_MODEL_91c4bc0dfabd486998e7417b011c1669",
            "placeholder": "​",
            "style": "IPY_MODEL_066ff2dca1db4d02aa6865f6ea5ef619",
            "value": "Loading pipeline components...: 100%"
          }
        },
        "09830badcf854ed5b11a962978190374": {
          "model_module": "@jupyter-widgets/controls",
          "model_name": "FloatProgressModel",
          "model_module_version": "1.5.0",
          "state": {
            "_dom_classes": [],
            "_model_module": "@jupyter-widgets/controls",
            "_model_module_version": "1.5.0",
            "_model_name": "FloatProgressModel",
            "_view_count": null,
            "_view_module": "@jupyter-widgets/controls",
            "_view_module_version": "1.5.0",
            "_view_name": "ProgressView",
            "bar_style": "success",
            "description": "",
            "description_tooltip": null,
            "layout": "IPY_MODEL_9232929ee06f4c09a8e9f13521138d79",
            "max": 5,
            "min": 0,
            "orientation": "horizontal",
            "style": "IPY_MODEL_62f2bec33c894d9793a83ecf7a082961",
            "value": 5
          }
        },
        "dc9bc749a0ec48ae850cf0db7b34133f": {
          "model_module": "@jupyter-widgets/controls",
          "model_name": "HTMLModel",
          "model_module_version": "1.5.0",
          "state": {
            "_dom_classes": [],
            "_model_module": "@jupyter-widgets/controls",
            "_model_module_version": "1.5.0",
            "_model_name": "HTMLModel",
            "_view_count": null,
            "_view_module": "@jupyter-widgets/controls",
            "_view_module_version": "1.5.0",
            "_view_name": "HTMLView",
            "description": "",
            "description_tooltip": null,
            "layout": "IPY_MODEL_ff2f44a380074a0d87f586bb61a0a5f6",
            "placeholder": "​",
            "style": "IPY_MODEL_60df86a7e3764533b38d6bc2dd4f0ae0",
            "value": " 5/5 [00:19&lt;00:00,  3.04s/it]"
          }
        },
        "47c9018df8d84912abf228cd63d61942": {
          "model_module": "@jupyter-widgets/base",
          "model_name": "LayoutModel",
          "model_module_version": "1.2.0",
          "state": {
            "_model_module": "@jupyter-widgets/base",
            "_model_module_version": "1.2.0",
            "_model_name": "LayoutModel",
            "_view_count": null,
            "_view_module": "@jupyter-widgets/base",
            "_view_module_version": "1.2.0",
            "_view_name": "LayoutView",
            "align_content": null,
            "align_items": null,
            "align_self": null,
            "border": null,
            "bottom": null,
            "display": null,
            "flex": null,
            "flex_flow": null,
            "grid_area": null,
            "grid_auto_columns": null,
            "grid_auto_flow": null,
            "grid_auto_rows": null,
            "grid_column": null,
            "grid_gap": null,
            "grid_row": null,
            "grid_template_areas": null,
            "grid_template_columns": null,
            "grid_template_rows": null,
            "height": null,
            "justify_content": null,
            "justify_items": null,
            "left": null,
            "margin": null,
            "max_height": null,
            "max_width": null,
            "min_height": null,
            "min_width": null,
            "object_fit": null,
            "object_position": null,
            "order": null,
            "overflow": null,
            "overflow_x": null,
            "overflow_y": null,
            "padding": null,
            "right": null,
            "top": null,
            "visibility": null,
            "width": null
          }
        },
        "91c4bc0dfabd486998e7417b011c1669": {
          "model_module": "@jupyter-widgets/base",
          "model_name": "LayoutModel",
          "model_module_version": "1.2.0",
          "state": {
            "_model_module": "@jupyter-widgets/base",
            "_model_module_version": "1.2.0",
            "_model_name": "LayoutModel",
            "_view_count": null,
            "_view_module": "@jupyter-widgets/base",
            "_view_module_version": "1.2.0",
            "_view_name": "LayoutView",
            "align_content": null,
            "align_items": null,
            "align_self": null,
            "border": null,
            "bottom": null,
            "display": null,
            "flex": null,
            "flex_flow": null,
            "grid_area": null,
            "grid_auto_columns": null,
            "grid_auto_flow": null,
            "grid_auto_rows": null,
            "grid_column": null,
            "grid_gap": null,
            "grid_row": null,
            "grid_template_areas": null,
            "grid_template_columns": null,
            "grid_template_rows": null,
            "height": null,
            "justify_content": null,
            "justify_items": null,
            "left": null,
            "margin": null,
            "max_height": null,
            "max_width": null,
            "min_height": null,
            "min_width": null,
            "object_fit": null,
            "object_position": null,
            "order": null,
            "overflow": null,
            "overflow_x": null,
            "overflow_y": null,
            "padding": null,
            "right": null,
            "top": null,
            "visibility": null,
            "width": null
          }
        },
        "066ff2dca1db4d02aa6865f6ea5ef619": {
          "model_module": "@jupyter-widgets/controls",
          "model_name": "DescriptionStyleModel",
          "model_module_version": "1.5.0",
          "state": {
            "_model_module": "@jupyter-widgets/controls",
            "_model_module_version": "1.5.0",
            "_model_name": "DescriptionStyleModel",
            "_view_count": null,
            "_view_module": "@jupyter-widgets/base",
            "_view_module_version": "1.2.0",
            "_view_name": "StyleView",
            "description_width": ""
          }
        },
        "9232929ee06f4c09a8e9f13521138d79": {
          "model_module": "@jupyter-widgets/base",
          "model_name": "LayoutModel",
          "model_module_version": "1.2.0",
          "state": {
            "_model_module": "@jupyter-widgets/base",
            "_model_module_version": "1.2.0",
            "_model_name": "LayoutModel",
            "_view_count": null,
            "_view_module": "@jupyter-widgets/base",
            "_view_module_version": "1.2.0",
            "_view_name": "LayoutView",
            "align_content": null,
            "align_items": null,
            "align_self": null,
            "border": null,
            "bottom": null,
            "display": null,
            "flex": null,
            "flex_flow": null,
            "grid_area": null,
            "grid_auto_columns": null,
            "grid_auto_flow": null,
            "grid_auto_rows": null,
            "grid_column": null,
            "grid_gap": null,
            "grid_row": null,
            "grid_template_areas": null,
            "grid_template_columns": null,
            "grid_template_rows": null,
            "height": null,
            "justify_content": null,
            "justify_items": null,
            "left": null,
            "margin": null,
            "max_height": null,
            "max_width": null,
            "min_height": null,
            "min_width": null,
            "object_fit": null,
            "object_position": null,
            "order": null,
            "overflow": null,
            "overflow_x": null,
            "overflow_y": null,
            "padding": null,
            "right": null,
            "top": null,
            "visibility": null,
            "width": null
          }
        },
        "62f2bec33c894d9793a83ecf7a082961": {
          "model_module": "@jupyter-widgets/controls",
          "model_name": "ProgressStyleModel",
          "model_module_version": "1.5.0",
          "state": {
            "_model_module": "@jupyter-widgets/controls",
            "_model_module_version": "1.5.0",
            "_model_name": "ProgressStyleModel",
            "_view_count": null,
            "_view_module": "@jupyter-widgets/base",
            "_view_module_version": "1.2.0",
            "_view_name": "StyleView",
            "bar_color": null,
            "description_width": ""
          }
        },
        "ff2f44a380074a0d87f586bb61a0a5f6": {
          "model_module": "@jupyter-widgets/base",
          "model_name": "LayoutModel",
          "model_module_version": "1.2.0",
          "state": {
            "_model_module": "@jupyter-widgets/base",
            "_model_module_version": "1.2.0",
            "_model_name": "LayoutModel",
            "_view_count": null,
            "_view_module": "@jupyter-widgets/base",
            "_view_module_version": "1.2.0",
            "_view_name": "LayoutView",
            "align_content": null,
            "align_items": null,
            "align_self": null,
            "border": null,
            "bottom": null,
            "display": null,
            "flex": null,
            "flex_flow": null,
            "grid_area": null,
            "grid_auto_columns": null,
            "grid_auto_flow": null,
            "grid_auto_rows": null,
            "grid_column": null,
            "grid_gap": null,
            "grid_row": null,
            "grid_template_areas": null,
            "grid_template_columns": null,
            "grid_template_rows": null,
            "height": null,
            "justify_content": null,
            "justify_items": null,
            "left": null,
            "margin": null,
            "max_height": null,
            "max_width": null,
            "min_height": null,
            "min_width": null,
            "object_fit": null,
            "object_position": null,
            "order": null,
            "overflow": null,
            "overflow_x": null,
            "overflow_y": null,
            "padding": null,
            "right": null,
            "top": null,
            "visibility": null,
            "width": null
          }
        },
        "60df86a7e3764533b38d6bc2dd4f0ae0": {
          "model_module": "@jupyter-widgets/controls",
          "model_name": "DescriptionStyleModel",
          "model_module_version": "1.5.0",
          "state": {
            "_model_module": "@jupyter-widgets/controls",
            "_model_module_version": "1.5.0",
            "_model_name": "DescriptionStyleModel",
            "_view_count": null,
            "_view_module": "@jupyter-widgets/base",
            "_view_module_version": "1.2.0",
            "_view_name": "StyleView",
            "description_width": ""
          }
        }
      }
    }
  },
  "cells": [
    {
      "cell_type": "markdown",
      "metadata": {
        "id": "view-in-github",
        "colab_type": "text"
      },
      "source": [
        "<a href=\"https://colab.research.google.com/github/LucianoRodriguez0764/ipadapter_faceid_colab/blob/main/Ipadapter_faceID_Latest.ipynb\" target=\"_parent\"><img src=\"https://colab.research.google.com/assets/colab-badge.svg\" alt=\"Open In Colab\"/></a>"
      ]
    },
    {
      "cell_type": "markdown",
      "source": [
        "# Installing dependencies and download the IP-Adapter model"
      ],
      "metadata": {
        "id": "OB5WejBfJtq8"
      }
    },
    {
      "cell_type": "code",
      "source": [
        "!pip install insightface\n",
        "!pip install onnxruntime\n",
        "!pip install diffusers\n",
        "!pip install git+https://github.com/tencent-ailab/IP-Adapter.git\n",
        "!pip install einops"
      ],
      "metadata": {
        "id": "MQzuaaeAThi1",
        "collapsed": true
      },
      "execution_count": null,
      "outputs": []
    },
    {
      "cell_type": "markdown",
      "source": [
        "# Generate the image with IP-Adapter"
      ],
      "metadata": {
        "id": "VtB54JeMJT_a"
      }
    },
    {
      "cell_type": "code",
      "source": [
        "!wget -O ip-adapter-faceid-plusv2_sd15.bin https://huggingface.co/h94/IP-Adapter-FaceID/resolve/main/ip-adapter-faceid-plusv2_sd15.bin"
      ],
      "metadata": {
        "id": "IoeXhrE8QZ_9",
        "outputId": "5ab9d849-99b9-4bbb-a9ba-aecbf351b5ec",
        "colab": {
          "base_uri": "https://localhost:8080/"
        }
      },
      "execution_count": 6,
      "outputs": [
        {
          "output_type": "stream",
          "name": "stdout",
          "text": [
            "--2024-11-20 15:47:50--  https://huggingface.co/h94/IP-Adapter-FaceID/resolve/main/ip-adapter-faceid-plusv2_sd15.bin\n",
            "Resolving huggingface.co (huggingface.co)... 18.239.50.16, 18.239.50.80, 18.239.50.103, ...\n",
            "Connecting to huggingface.co (huggingface.co)|18.239.50.16|:443... connected.\n",
            "HTTP request sent, awaiting response... 302 Found\n",
            "Location: https://cdn-lfs-us-1.hf.co/repos/36/ca/36ca54ff1895000df817b45a5ae71fccd14170b0843d8adc2ba7944d9ac903e9/26d0d86a1d60d6cc811d3b8862178b461e1eeb651e6fe2b72ba17aa95411e313?response-content-disposition=inline%3B+filename*%3DUTF-8%27%27ip-adapter-faceid-plusv2_sd15.bin%3B+filename%3D%22ip-adapter-faceid-plusv2_sd15.bin%22%3B&response-content-type=application%2Foctet-stream&Expires=1732375712&Policy=eyJTdGF0ZW1lbnQiOlt7IkNvbmRpdGlvbiI6eyJEYXRlTGVzc1RoYW4iOnsiQVdTOkVwb2NoVGltZSI6MTczMjM3NTcxMn19LCJSZXNvdXJjZSI6Imh0dHBzOi8vY2RuLWxmcy11cy0xLmhmLmNvL3JlcG9zLzM2L2NhLzM2Y2E1NGZmMTg5NTAwMGRmODE3YjQ1YTVhZTcxZmNjZDE0MTcwYjA4NDNkOGFkYzJiYTc5NDRkOWFjOTAzZTkvMjZkMGQ4NmExZDYwZDZjYzgxMWQzYjg4NjIxNzhiNDYxZTFlZWI2NTFlNmZlMmI3MmJhMTdhYTk1NDExZTMxMz9yZXNwb25zZS1jb250ZW50LWRpc3Bvc2l0aW9uPSomcmVzcG9uc2UtY29udGVudC10eXBlPSoifV19&Signature=gxoodI8IJVDlyuYRYz70JuyT5n4-MvwwyYa43i9J6nr%7EjrplzSiCVna74jmYgMvSCziGiKjoWAtss8AFZjNrP1WmqC%7EN06RmLIg8X2y3rzmnZCGrNRMQHGND1xx2xd4t84YdKS05vdIk4bb-tZrT2pcsr-Q8MqarH%7En%7ES0Iksnl%7ExD6tFrvfN-JbFojl2MIXU0mgO6tZ98i0nHJj5b0Ms%7EOWRb%7E-jmt8A2obrV0IkHjJTw0QQ2gQf4nBIixv77NNgbpEawRkr5ONQrdFE51kMLBlWZzBRvyH37gTRl6KwtSjFqu8SY8S%7EizgWWZxfME8yynz%7EHMwS-YEJLrfMiMjXA__&Key-Pair-Id=K24J24Z295AEI9 [following]\n",
            "--2024-11-20 15:47:50--  https://cdn-lfs-us-1.hf.co/repos/36/ca/36ca54ff1895000df817b45a5ae71fccd14170b0843d8adc2ba7944d9ac903e9/26d0d86a1d60d6cc811d3b8862178b461e1eeb651e6fe2b72ba17aa95411e313?response-content-disposition=inline%3B+filename*%3DUTF-8%27%27ip-adapter-faceid-plusv2_sd15.bin%3B+filename%3D%22ip-adapter-faceid-plusv2_sd15.bin%22%3B&response-content-type=application%2Foctet-stream&Expires=1732375712&Policy=eyJTdGF0ZW1lbnQiOlt7IkNvbmRpdGlvbiI6eyJEYXRlTGVzc1RoYW4iOnsiQVdTOkVwb2NoVGltZSI6MTczMjM3NTcxMn19LCJSZXNvdXJjZSI6Imh0dHBzOi8vY2RuLWxmcy11cy0xLmhmLmNvL3JlcG9zLzM2L2NhLzM2Y2E1NGZmMTg5NTAwMGRmODE3YjQ1YTVhZTcxZmNjZDE0MTcwYjA4NDNkOGFkYzJiYTc5NDRkOWFjOTAzZTkvMjZkMGQ4NmExZDYwZDZjYzgxMWQzYjg4NjIxNzhiNDYxZTFlZWI2NTFlNmZlMmI3MmJhMTdhYTk1NDExZTMxMz9yZXNwb25zZS1jb250ZW50LWRpc3Bvc2l0aW9uPSomcmVzcG9uc2UtY29udGVudC10eXBlPSoifV19&Signature=gxoodI8IJVDlyuYRYz70JuyT5n4-MvwwyYa43i9J6nr%7EjrplzSiCVna74jmYgMvSCziGiKjoWAtss8AFZjNrP1WmqC%7EN06RmLIg8X2y3rzmnZCGrNRMQHGND1xx2xd4t84YdKS05vdIk4bb-tZrT2pcsr-Q8MqarH%7En%7ES0Iksnl%7ExD6tFrvfN-JbFojl2MIXU0mgO6tZ98i0nHJj5b0Ms%7EOWRb%7E-jmt8A2obrV0IkHjJTw0QQ2gQf4nBIixv77NNgbpEawRkr5ONQrdFE51kMLBlWZzBRvyH37gTRl6KwtSjFqu8SY8S%7EizgWWZxfME8yynz%7EHMwS-YEJLrfMiMjXA__&Key-Pair-Id=K24J24Z295AEI9\n",
            "Resolving cdn-lfs-us-1.hf.co (cdn-lfs-us-1.hf.co)... 18.238.243.19, 18.238.243.22, 18.238.243.82, ...\n",
            "Connecting to cdn-lfs-us-1.hf.co (cdn-lfs-us-1.hf.co)|18.238.243.19|:443... connected.\n",
            "HTTP request sent, awaiting response... 200 OK\n",
            "Length: 156558509 (149M) [application/octet-stream]\n",
            "Saving to: ‘ip-adapter-faceid-plusv2_sd15.bin’\n",
            "\n",
            "ip-adapter-faceid-p 100%[===================>] 149.31M  40.7MB/s    in 3.7s    \n",
            "\n",
            "2024-11-20 15:47:54 (40.6 MB/s) - ‘ip-adapter-faceid-plusv2_sd15.bin’ saved [156558509/156558509]\n",
            "\n"
          ]
        }
      ]
    },
    {
      "cell_type": "code",
      "source": [
        "import torch\n",
        "from diffusers import StableDiffusionPipeline, DDIMScheduler, AutoencoderKL\n",
        "from PIL import Image as PILImage\n",
        "\n",
        "from ip_adapter.ip_adapter_faceid import IPAdapterFaceIDPlus\n",
        "\n",
        "v2 = True\n",
        "base_model_path = \"SG161222/Realistic_Vision_V4.0_noVAE\"\n",
        "vae_model_path = \"stabilityai/sd-vae-ft-mse\"\n",
        "image_encoder_path = \"laion/CLIP-ViT-H-14-laion2B-s32B-b79K\"\n",
        "ip_ckpt = \"ip-adapter-faceid-plus_sd15.bin\" if not v2 else \"ip-adapter-faceid-plusv2_sd15.bin\"\n",
        "device = \"cuda\"\n",
        "\n",
        "noise_scheduler = DDIMScheduler(\n",
        "    num_train_timesteps=1000,\n",
        "    beta_start=0.00085,\n",
        "    beta_end=0.012,\n",
        "    beta_schedule=\"scaled_linear\",\n",
        "    clip_sample=False,\n",
        "    set_alpha_to_one=False,\n",
        "    steps_offset=1,\n",
        ")\n",
        "vae = AutoencoderKL.from_pretrained(vae_model_path).to(dtype=torch.float16)\n",
        "pipe = StableDiffusionPipeline.from_pretrained(\n",
        "    base_model_path,\n",
        "    torch_dtype=torch.float16,\n",
        "    scheduler=noise_scheduler,\n",
        "    vae=vae,\n",
        "    feature_extractor=None,\n",
        "    safety_checker=None\n",
        ")\n",
        "\n"
      ],
      "metadata": {
        "id": "-vXAlOnhQjDn",
        "outputId": "aea7b435-8085-4141-cc6d-f7dcc1b11248",
        "colab": {
          "base_uri": "https://localhost:8080/",
          "height": 49,
          "referenced_widgets": [
            "563b028f3f0a41cbba020078f180a9cb",
            "697039d712784e98a041bb17454631e4",
            "09830badcf854ed5b11a962978190374",
            "dc9bc749a0ec48ae850cf0db7b34133f",
            "47c9018df8d84912abf228cd63d61942",
            "91c4bc0dfabd486998e7417b011c1669",
            "066ff2dca1db4d02aa6865f6ea5ef619",
            "9232929ee06f4c09a8e9f13521138d79",
            "62f2bec33c894d9793a83ecf7a082961",
            "ff2f44a380074a0d87f586bb61a0a5f6",
            "60df86a7e3764533b38d6bc2dd4f0ae0"
          ]
        }
      },
      "execution_count": 8,
      "outputs": [
        {
          "output_type": "display_data",
          "data": {
            "text/plain": [
              "Loading pipeline components...:   0%|          | 0/5 [00:00<?, ?it/s]"
            ],
            "application/vnd.jupyter.widget-view+json": {
              "version_major": 2,
              "version_minor": 0,
              "model_id": "563b028f3f0a41cbba020078f180a9cb"
            }
          },
          "metadata": {}
        }
      ]
    },
    {
      "cell_type": "code",
      "source": [
        "import cv2\n",
        "from insightface.app import FaceAnalysis\n",
        "from insightface.utils import face_align\n",
        "import torch\n",
        "from PIL import Image as PILImage\n",
        "\n",
        "app = FaceAnalysis(name=\"buffalo_l\", providers=['CUDAExecutionProvider', 'CPUExecutionProvider'])\n",
        "app.prepare(ctx_id=0, det_size=(640, 640))\n",
        "\n",
        "# face\n",
        "image1 = cv2.imread(\"face.jpg\")\n",
        "# structure\n",
        "image2 = cv2.imread(\"person.png\")\n",
        "faces1 = app.get(image1)\n",
        "faces2 = app.get(image2)\n",
        "if faces1:\n",
        "  print(\"person detected\")\n",
        "if faces2:\n",
        "  print(\"face detected\")\n",
        "\n",
        "faceid_embeds1 = torch.from_numpy(faces1[0].normed_embedding).unsqueeze(0)\n",
        "faceid_embeds2 = torch.from_numpy(faces2[0].normed_embedding).unsqueeze(0)\n",
        "face_image1 = face_align.norm_crop(image1, landmark=faces1[0].kps, image_size=336)\n",
        "face_image2 = face_align.norm_crop(image2, landmark=faces2[0].kps, image_size=336)\n",
        "\n",
        "\n",
        "alpha = 0.7  # Weight for person2's identity\n",
        "blended_embeds2 = alpha * faceid_embeds2 + (1 - alpha) * faceid_embeds1\n",
        "blended_embeds1 = alpha * faceid_embeds1 + (1 - alpha) * faceid_embeds2"
      ],
      "metadata": {
        "id": "Q5cc28eQQrva",
        "outputId": "a0409911-501a-4de3-cbec-ee7d7fcb9121",
        "colab": {
          "base_uri": "https://localhost:8080/"
        }
      },
      "execution_count": 162,
      "outputs": [
        {
          "output_type": "stream",
          "name": "stderr",
          "text": [
            "/usr/local/lib/python3.10/dist-packages/onnxruntime/capi/onnxruntime_inference_collection.py:115: UserWarning: Specified provider 'CUDAExecutionProvider' is not in available provider names.Available providers: 'AzureExecutionProvider, CPUExecutionProvider'\n",
            "  warnings.warn(\n"
          ]
        },
        {
          "output_type": "stream",
          "name": "stdout",
          "text": [
            "Applied providers: ['CPUExecutionProvider'], with options: {'CPUExecutionProvider': {}}\n",
            "find model: /root/.insightface/models/buffalo_l/1k3d68.onnx landmark_3d_68 ['None', 3, 192, 192] 0.0 1.0\n",
            "Applied providers: ['CPUExecutionProvider'], with options: {'CPUExecutionProvider': {}}\n",
            "find model: /root/.insightface/models/buffalo_l/2d106det.onnx landmark_2d_106 ['None', 3, 192, 192] 0.0 1.0\n",
            "Applied providers: ['CPUExecutionProvider'], with options: {'CPUExecutionProvider': {}}\n",
            "find model: /root/.insightface/models/buffalo_l/det_10g.onnx detection [1, 3, '?', '?'] 127.5 128.0\n",
            "Applied providers: ['CPUExecutionProvider'], with options: {'CPUExecutionProvider': {}}\n",
            "find model: /root/.insightface/models/buffalo_l/genderage.onnx genderage ['None', 3, 96, 96] 0.0 1.0\n",
            "Applied providers: ['CPUExecutionProvider'], with options: {'CPUExecutionProvider': {}}\n",
            "find model: /root/.insightface/models/buffalo_l/w600k_r50.onnx recognition ['None', 3, 112, 112] 127.5 127.5\n",
            "set det-size: (640, 640)\n"
          ]
        },
        {
          "output_type": "stream",
          "name": "stderr",
          "text": [
            "/usr/local/lib/python3.10/dist-packages/insightface/utils/transform.py:68: FutureWarning: `rcond` parameter will change to the default of machine precision times ``max(M, N)`` where M and N are the input matrix dimensions.\n",
            "To use the future default and silence this warning we advise to pass `rcond=None`, to keep using the old, explicitly pass `rcond=-1`.\n",
            "  P = np.linalg.lstsq(X_homo, Y)[0].T # Affine matrix. 3 x 4\n"
          ]
        },
        {
          "output_type": "stream",
          "name": "stdout",
          "text": [
            "person detected\n",
            "face detected\n"
          ]
        }
      ]
    },
    {
      "cell_type": "code",
      "source": [
        "face_image2"
      ],
      "metadata": {
        "id": "bHiBq-PRZuHi"
      },
      "execution_count": null,
      "outputs": []
    },
    {
      "cell_type": "code",
      "source": [
        "# load ip-adapter\n",
        "ip_ckpt = \"ip-adapter-faceid-plusv2_sd15.bin\"\n",
        "ip_model = IPAdapterFaceIDPlus(pipe, image_encoder_path, ip_ckpt, device)\n",
        "\n",
        "import random\n",
        "\n",
        "# generate image\n",
        "prompt = \"photo of a 20 year old girl, skinny and bonny\"\n",
        "negative_prompt = \"monochrome, lowres, bad anatomy, worst quality, low quality, blurry\"\n",
        "v2=True\n",
        "\n",
        "seed = random.randint(1,999999)\n",
        "seed = 44444\n",
        "print(seed)\n",
        "\n",
        "\n",
        "\n",
        "images = ip_model.generate(\n",
        "     prompt=prompt, negative_prompt=negative_prompt, face_image=face_image1, faceid_embeds=blended_embeds2, shortcut=True, s_scale=1,\n",
        "     num_samples=1, width=512, height=512, num_inference_steps=100, seed=seed, guidance_scale=3\n",
        ")\n",
        "images[0]"
      ],
      "metadata": {
        "id": "VKYmt7DxQk36"
      },
      "execution_count": null,
      "outputs": []
    }
  ]
}